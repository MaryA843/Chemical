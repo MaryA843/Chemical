{
 "cells": [
  {
   "cell_type": "markdown",
   "id": "4ae39d04",
   "metadata": {},
   "source": [
    "# Understanding the alternative fuel vehicles market in the US"
   ]
  },
  {
   "cell_type": "markdown",
   "id": "44e575dd",
   "metadata": {
    "tags": [
     "4_min"
    ]
   },
   "source": [
    "## Introduction\n",
    "\n",
    "**Business Context.** You are an analyst at the ICCT ([International Council on Clean Transportation](https://theicct.org/mission-history)), an NGO that provides research to environmental authorities around the world. You are part of a team that is preparing a report on the alternative fuel vehicles (AFV) market in the United States, with a particular focus on the state of Washington.\n",
    "\n",
    "**Business Problem.** Your job is to **provide a characterization of the AFV market in the US and in Washington, including data about energy efficiency of the vehicles over time, geographical distribution, etc.**\n",
    "\n",
    "**Analytical Context.** You will be working with three Excel files that contain the raw data. The first one is  [`us_sales_fellow.xlsx`](data/us_sales_fellow.xlsx), which contains aggregated sales figures for the US; the second one is [`us_ranges_fellow.xlsx`](data/us_ranges_fellow.xlsx), which has data about ranges of electrical vehicles. These data files come from the US Department of Energy. The last one is [`washington_evs_fellow.xlsx`](data/washington_evs_fellow.xlsx), which is a census of all the electric vehicles in circulation in Washington state. This census data comes from the Washington State Department of Licensing.\n",
    "\n",
    "**Note:** For this extended case, you will need to submit one consolidated Excel file with your answers in addition to this notebook."
   ]
  },
  {
   "cell_type": "markdown",
   "id": "7eb31f39",
   "metadata": {
    "tags": [
     "4_min"
    ]
   },
   "source": [
    "## Alternative fuel vehicles in the US\n",
    "\n",
    "[Alternative fuel vehicles (AFV)](https://en.wikipedia.org/wiki/Alternative_fuel_vehicle) are vehicles that run either partially or totally on an energy source that is not gasoline or diesel, such as ethanol, solar power, electricity, or hydrogen. Some AFVs are highly efficient and, perhaps more importantly, have reduced greenhouse gas emissions relative to traditional vehicles, which makes them an important part of environmental recovery and protection plans around the globe.\n",
    "\n",
    "This chart shows the distribution of light-duty AFVs in the US as of Dec. 31, 2018:\n",
    "\n",
    "![](data/images/light-duty-afv-registrat.png)\n",
    "\n",
    "**Legend:** *FFV:* Flexible fuel vehicle (cars that run on biofuels or mixtures of gas and biofuels - most of the FFVs in the US operate primarily on gasoline, see [here](https://afdc.energy.gov/vehicles/flexible_fuel.html) for more information). *HEV:* Hybrid electric vehicle. *CNG:* Compressed natural gas. *EV:* Electric vehicle. *PHEV:* Plug-in hybrid electric vehicle. PHEVs and EVs are often counted as a single category, Plug-in electric vehicles (*PEV*s). **Source:** Alternative Fuels Data Center, US Department of Energy."
   ]
  },
  {
   "cell_type": "markdown",
   "id": "03275db2",
   "metadata": {
    "tags": [
     "10_min"
    ]
   },
   "source": [
    "### Exercise 1\n",
    "\n",
    "Write a paragraph with an interpretation of this chart in your own words."
   ]
  },
  {
   "cell_type": "markdown",
   "id": "bf3ae110",
   "metadata": {
    "tags": [
     "ans_st"
    ]
   },
   "source": [
    "**Answer.**"
   ]
  },
  {
   "cell_type": "markdown",
   "id": "56508c6f",
   "metadata": {},
   "source": [
    "-------Out of all the light duty AFVs in the U.S., a good majority of them are FFVs (80.64%). In second place are the HEVs, making up 15.54% of the population. PEVs come in third (3.7%), with an equal split between the PHEVs(1.72%) and the EVs(1.98%). The smalllest sector are CNGs, taking up 0.11% of the population of cars. All in all this chart shows that as of Dec. 18, 2018, the United States is still heavily reliant on biofuels and gas for its personal transporation needs even when it comes down to the alternative fuel vehicles sector."
   ]
  },
  {
   "cell_type": "markdown",
   "id": "fc81a25a",
   "metadata": {
    "tags": [
     "10_min"
    ]
   },
   "source": [
    "### Exercise 2\n",
    "\n",
    "Read this excerpt from [this page](https://afdc.energy.gov/vehicles/flexible_fuel.html) about flexible fuel vehicles:\n",
    "\n",
    "> Flexible fuel vehicles (FFVs) have an internal combustion engine and are capable of operating on gasoline and any blend of gasoline and ethanol up to 83%. E85 (or flex fuel) is a gasoline-ethanol blend containing 51% to 83% ethanol, depending on geography and season. According to IHS Markit, as of 2017, there were more than 21 million FFVs in the United States. Because FFVs are factory made and are capable of operating on gasoline and gasoline-ethanol blends, many vehicle owners don't realize their car is an FFV and that they have a choice of fuels to use.\n",
    "\n",
    "What implications does this have for your analysis?"
   ]
  },
  {
   "cell_type": "markdown",
   "id": "1c11cdd5",
   "metadata": {
    "tags": [
     "ans_st"
    ]
   },
   "source": [
    "**Answer.**"
   ]
  },
  {
   "cell_type": "markdown",
   "id": "ae6cbaf7",
   "metadata": {},
   "source": [
    "-------The previous pie chart would suggest that Americans (80.64%) are still reliant of gasoline for their vehicle transportation. But taking this information into considerations, you could imply that Americans do not have to rely on gasoline to run their vehicles. In fact, most Americans might not even be aware that they own an FFVs. This means that they could potentially not purchase high priced gasoline and deal with the detrimental effects it has on the environment. The pie-chart actually tells a wrong and skewed story."
   ]
  },
  {
   "cell_type": "markdown",
   "id": "88b7a613",
   "metadata": {
    "tags": [
     "30_min"
    ]
   },
   "source": [
    "### Exercise 3\n",
    "\n",
    "Your team would like to know how the sales of fully electric vehicles compare to those of plug-in hybrid electric vehicles over time. Open the [`us_sales_fellow.xlsx`](data/us_sales_fellow.xlsx) file. The `models` worksheet has a list of all the models in the dataset with their type (either EV or PHEV) and the `sales` worksheet shows how many units were sold of each model in each year between 2011 and 2019. Make a pivot table that has these rows and columns (insert it in a new worksheet):\n",
    "\n",
    "![US sales pivot table](data/images/us_sales_pivot.png)\n",
    "\n",
    "**Hint:** You will need to use the `INDEX()` and `MATCH()` functions."
   ]
  },
  {
   "cell_type": "markdown",
   "id": "0b3169ab",
   "metadata": {
    "tags": [
     "10_min"
    ]
   },
   "source": [
    "### Exercise 4\n",
    "\n",
    "The figures you have just calculated can be represented using the below plots. Provide a paragraph in which you explain in your own words what can be inferred from them:\n",
    "\n",
    "![US sales bar plot total](data/images/us_sales_bar_total.png)\n",
    "![US sales bar plot by type](data/images/us_sales_bar_type.png)"
   ]
  },
  {
   "cell_type": "markdown",
   "id": "f55d3bc4",
   "metadata": {
    "tags": [
     "ans_st"
    ]
   },
   "source": [
    "**Answer.**"
   ]
  },
  {
   "cell_type": "markdown",
   "id": "3598aa1a",
   "metadata": {},
   "source": [
    "-------The amount of plug-in electric vehicles (PEVs) have exponentially grown throughout the last decade. The highest sale year for PEVs were in 2018. In 2011, EVs and PHEVs made a relatively equal amount of sales, but in the 2012 PHEVs triumphed over EVs in sales by about 250,000 units. In 2013, their sales matched again, totaling about 500,000 units each. An interesting shift happened in 2014, EVs started to outsell PHEVs. And those sales exponetially increased in the coming years, resulting in EVs selling about 3 times as much as PHEVs in 2019. Electric vehicles reign supreme over plug-in hybrid electric vehicles in the past decade."
   ]
  },
  {
   "cell_type": "markdown",
   "id": "4054a970",
   "metadata": {
    "tags": [
     "35_min"
    ]
   },
   "source": [
    "### Exercise 5 (hard)\n",
    "\n",
    "Let's now investigate the ranges of electric vehicles in the US. The range of an electric vehicle is the theoretical number of miles it can travel without needing to be recharged.\n",
    "\n",
    "The data has come to you in the [`us_ranges_fellow.xlsx`](data/us_ranges_fellow.xlsx) file. It contains range data for a number of EV models in the form of text strings. For example, `2013 Toyota - Scion Iq 038` means that the range of a Toyota Scion Iq model 2013 is 38 miles. Your job is to use Excel functions to create a table out of this data with the four columns `YEAR`, `MAKE`, `MODEL`, and `RANGE`, to end up with something like this:\n",
    "\n",
    "![Us ranges data wrangling](data/images/wrangled.png)\n",
    "\n",
    "**Hint:** Use the `FIND()`, `LEN()`, `RIGHT()`, `LEFT()`, `TRIM()`, and `VALUE()` functions to wrangle the data. Notice that all years have four characters and all ranges have three."
   ]
  },
  {
   "cell_type": "markdown",
   "id": "d90bd2aa",
   "metadata": {
    "tags": [
     "10_min"
    ]
   },
   "source": [
    "### Exercise 6\n",
    "\n",
    "This is a histogram made with the data from Exercise 5:\n",
    "\n",
    "![Histogram of range](data/images/histogram.png)\n",
    "\n",
    "There is a gap in the interval from ~147 to ~228 miles. What does that mean? What could be causing it?"
   ]
  },
  {
   "cell_type": "markdown",
   "id": "b315f05c",
   "metadata": {
    "tags": [
     "ans_st"
    ]
   },
   "source": [
    "**Answer.**"
   ]
  },
  {
   "cell_type": "markdown",
   "id": "9914f48d",
   "metadata": {},
   "source": [
    "-------The gap in the interval from ~147 to ~228 miles means that there are no models that can travel beyond those miles, without needing to be recharged. It seems that the models that go from ~228 miles and beyond are mostly Telsas. Teslas has been a pioneer in the electric vehicle industry for a long time, so they have vested interest and enough research capabilities to create vehicles with longer ranges. The models in the ~147 to ~228 gap must be created by makes with little knowledge about electric vehicles. Technology seems to be a contributing factor. Another important facet that might make up for the two distinct clusters of low electric range cars and high electric cars is the cost for value. Consumers might not think that the cost for a mid-range car is worth it, thus manufacturers are keeping that in mind creating models. People  either go for the high-range Teslas or they go the low-range models."
   ]
  },
  {
   "cell_type": "markdown",
   "id": "1649940d",
   "metadata": {
    "tags": [
     "10_min"
    ]
   },
   "source": [
    "### Exercise 7\n",
    "\n",
    "Do newer cars have longer ranges?"
   ]
  },
  {
   "cell_type": "markdown",
   "id": "77030185",
   "metadata": {
    "tags": [
     "ans_st"
    ]
   },
   "source": [
    "**Answer.**"
   ]
  },
  {
   "cell_type": "markdown",
   "id": "22b409b1",
   "metadata": {},
   "source": [
    "-------Newer cars do have longer ranges. Though there is one outlier in 2012, the going trend is that the average range of cars increases over the years."
   ]
  },
  {
   "cell_type": "markdown",
   "id": "fe96e421",
   "metadata": {},
   "source": [
    "## Electric vehicle population in Washington state\n",
    "\n",
    "Let's now move on to studying the population of electric vehicles in Washington State using pivot tables. The relevant file is [`washington_evs_fellow.xlsx`](data/washington_evs_fellow.xlsx)."
   ]
  },
  {
   "cell_type": "markdown",
   "id": "9d36b225",
   "metadata": {
    "tags": [
     "7_min"
    ]
   },
   "source": [
    "### Exercise 8\n",
    "\n",
    "#### 8.1\n",
    "\n",
    "What are the 5 most popular makes in Washington?"
   ]
  },
  {
   "cell_type": "markdown",
   "id": "ee239663",
   "metadata": {
    "tags": [
     "ans_st"
    ]
   },
   "source": [
    "**Answer.**"
   ]
  },
  {
   "cell_type": "markdown",
   "id": "ef36a547",
   "metadata": {},
   "source": [
    "-------The 5 most popular makes in Washington are Tesla, Nissan, Chevrolet, Ford, and Kia."
   ]
  },
  {
   "cell_type": "markdown",
   "id": "d2c3da0d",
   "metadata": {
    "tags": [
     "7_min"
    ]
   },
   "source": [
    "#### 8.2\n",
    "\n",
    "What are the most common model years in Washington? Do this result and that of the previous exercise suggest that cars in Washington tend to have long ranges?"
   ]
  },
  {
   "cell_type": "markdown",
   "id": "f6e7713d",
   "metadata": {
    "tags": [
     "ans_st"
    ]
   },
   "source": [
    "**Answer.**"
   ]
  },
  {
   "cell_type": "markdown",
   "id": "8ff9ad71",
   "metadata": {},
   "source": [
    "-------The most common model years in Washington are 2018, 2020, 2019, 2017, and 2021. This and the previous exercise do suggest that cars in Washington have longer ranges because these common model years are in more recent years."
   ]
  },
  {
   "cell_type": "markdown",
   "id": "01e5263a",
   "metadata": {
    "tags": [
     "6_min"
    ]
   },
   "source": [
    "### Exercise 9\n",
    "\n",
    "This is a histogram of vehicles in Washington state according to their ranges. Is it consistent with the hypothesis that cars there tend to have long ranges?\n",
    "\n",
    "![Histogram of ranges (Washington)](data/images/histogram_washington.png)\n",
    "\n",
    "**Note:** While the histogram you analyzed in Exercise 6 showed the distribution of ranges from a list of *models*, this histogram shows you the distribution from a list of *individual vehicles*, and therefore the two histograms are not comparable. The dataset from Exercise 6 had 65 models, while the Washington state dataset has 76,767 vehicles."
   ]
  },
  {
   "cell_type": "markdown",
   "id": "29e70dcc",
   "metadata": {
    "tags": [
     "ans_st"
    ]
   },
   "source": [
    "**Answer.**"
   ]
  },
  {
   "cell_type": "markdown",
   "id": "53bae4b6",
   "metadata": {},
   "source": [
    "-------It is not consistent with the hypothesis that cars in Washington state tend to have long ranges. Looking at the range, it seems like there are more cars with a range less than 168.5 miles than cars with more than 168.5 miles. It might not be by much but it still enough to debunk the hypothesis."
   ]
  },
  {
   "cell_type": "markdown",
   "id": "14d1b4bc",
   "metadata": {},
   "source": [
    "## Attribution\n",
    "\n",
    "\"Light-Duty AFV Registrations\", Aug 2020, Alternative Fuels Data Center, US Department of Energy, [Public Domain](https://www.energy.gov/about-us/web-policies), https://afdc.energy.gov/data/10861\n",
    "\n",
    "\"Electric Vehicle Population Data\", Aug 2021, Washington State Department of Licensing (DOL), [DOL Conditions of Use](https://www.dol.wa.gov/conditions.html) https://catalog.data.gov/dataset/electric-vehicle-population-data\n",
    "\n",
    "\"U.S. Plug-in Electric Vehicle Sales by Model\", Jan 2020, Alternative Fuels Data Center, US Department of Energy, [Public Domain](https://www.energy.gov/about-us/web-policies), https://afdc.energy.gov/data/10567\n",
    "\n",
    "\"Average Range and Efficiency of U.S. Electric Vehicles\", Jan 2020, Alternative Fuels Data Center, US Department of Energy, [Public Domain](https://www.energy.gov/about-us/web-policies), https://afdc.energy.gov/data/10963"
   ]
  }
 ],
 "metadata": {
  "c1_recart": "7.26.0-57c20131aabc1dc2a8c675852d80a7da",
  "kernelspec": {
   "display_name": "Python 3",
   "language": "python",
   "name": "python3"
  },
  "language_info": {
   "codemirror_mode": {
    "name": "ipython",
    "version": 3
   },
   "file_extension": ".py",
   "mimetype": "text/x-python",
   "name": "python",
   "nbconvert_exporter": "python",
   "pygments_lexer": "ipython3",
   "version": "3.8.12"
  }
 },
 "nbformat": 4,
 "nbformat_minor": 5
}
